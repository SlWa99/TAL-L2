{
 "cells": [
  {
   "cell_type": "markdown",
   "metadata": {},
   "source": [
    "<img src=\"https://heig-vd.ch/docs/default-source/doc-global-newsletter/2020-slim.svg\" alt=\"HEIG-VD Logo\" width=\"100\" align=\"right\" /> \n",
    "\n",
    "# Cours TAL - Laboratoire 2<br/>*POS taggers* pour le français dans spaCy et NLTK\n",
    "\n",
    "**Objectif**\n",
    "\n",
    "Comparer l'étiqueteur morphosyntaxique français prêt-à-l'emploi de spaCy avec deux étiqueteurs entraînés, l'un dans spaCy et l'autre dans NLTK."
   ]
  },
  {
   "cell_type": "markdown",
   "metadata": {},
   "source": [
    "## 1. Installation et test de spaCy\n",
    "\n",
    "La boîte à outils spaCy est une librairie Python *open source* pour le TAL, dédiée à un usage en production. Les documents suivants vous seront utiles :\n",
    "* comment [installer](https://spacy.io/usage) spaCy\n",
    "* comment [télécharger un modèle](https://spacy.io/usage/models) pour une langue donnée (on appelle ces modèles des *trained pipelines* car ils enchaînent plusieurs traitements)\n",
    "* comment faire les [premiers pas](https://spacy.io/usage/spacy-101) dans l'utilisation de spaCy\n",
    "\n",
    "Veuillez installer spaCy, puis la *pipeline* pour le français appelée `fr_core_news_sm`.  Si vous utilisez *conda*, installez spaCy dans l'environnement du cours TAL."
   ]
  },
  {
   "cell_type": "code",
   "execution_count": 1,
   "metadata": {
    "ExecuteTime": {
     "end_time": "2025-03-10T14:35:30.471510Z",
     "start_time": "2025-03-10T14:35:23.028320Z"
    }
   },
   "outputs": [],
   "source": [
    "import spacy\n",
    "nlp = spacy.load(\"fr_core_news_sm\") # charge la pipeline\n",
    "import tqdm # permet l'affichage d'une barre de progression"
   ]
  },
  {
   "cell_type": "markdown",
   "metadata": {},
   "source": [
    "**1a.** Une pipeline effectue un ensemble de traitements d'un texte en lui ajoutant des annotations.  Les traitements effectués par la pipeline `fr_core_news_sm` sont [documentés ici](https://spacy.io/models/fr#fr_core_news_sm).  La liste des traitements d'une pipeline figure dans son attribut `.pipe_names`.  On peut activer ou désactiver un traitement T avec, respectivement, les méthodes `.disable_pipe(T)` et `.enable_pipe(T)` appliquées à la pipeline.\n",
    "\n",
    "* Veuillez afficher les traitements disponibles dans la pipeline `fr_core_news_sm` chargée ci-dessus sous le nom de `nlp` .\n",
    "* Veuillez désactiver tous les traitements sauf `tok2vec` et `morphologizer` (on fait cela pour accélerer le traitement).\n",
    "* Vérifiez que la désactivation a bien fonctionné en affichant les traitements activés."
   ]
  },
  {
   "cell_type": "code",
   "execution_count": 2,
   "metadata": {
    "ExecuteTime": {
     "end_time": "2025-03-10T14:35:30.494520Z",
     "start_time": "2025-03-10T14:35:30.488519Z"
    }
   },
   "outputs": [
    {
     "name": "stdout",
     "output_type": "stream",
     "text": [
      "['tok2vec', 'morphologizer', 'parser', 'attribute_ruler', 'lemmatizer', 'ner']\n",
      "['tok2vec', 'morphologizer']\n"
     ]
    }
   ],
   "source": [
    "# traitement disponible dans la pipeline\n",
    "print(nlp.pipe_names)\n",
    "# désactivation des traitements\n",
    "for pipe in nlp.pipe_names:\n",
    "    if pipe not in ['tok2vec', 'morphologizer']:\n",
    "        nlp.disable_pipe(pipe)\n",
    "# vérification\n",
    "print(nlp.pipe_names)"
   ]
  },
  {
   "cell_type": "code",
   "execution_count": 3,
   "metadata": {
    "ExecuteTime": {
     "end_time": "2025-03-10T14:35:30.829212Z",
     "start_time": "2025-03-10T14:35:30.822211Z"
    }
   },
   "outputs": [],
   "source": [
    "from spacy.lang.fr.examples import sentences"
   ]
  },
  {
   "cell_type": "markdown",
   "metadata": {},
   "source": [
    "**1b.** L'objet `sentences` chargé ci-dessus contient une liste de phrases en français. \n",
    "\n",
    "* Veuillez afficher les deux premières phrases de `sentences`.\n",
    "* Veuillez analyser chacune de ces deux phrases avec la pipeline `nlp` puis afficher chaque token et son POS tag.\n",
    "    * indication : aidez-vous de la [documentation](https://spacy.io/models/fr#fr_core_news_sm) de `fr_core_news_sm`\n",
    "    * consigne d'affichage : indiquer le tag entre crochets après chaque token, comme ceci : Les \\[DET\\] robots \\[NOUN\\] ...\n",
    "    * note : la documentation détaillée du POS tagging dans spaCy est [disponible ici](https://spacy.io/usage/linguistic-features)\n",
    "* Veuillez commenter la tokenisation et les POS tags observés : vous semblent-ils corrects pour les deux phrases ?"
   ]
  },
  {
   "cell_type": "code",
   "execution_count": 4,
   "metadata": {
    "ExecuteTime": {
     "end_time": "2025-03-10T14:35:30.864797Z",
     "start_time": "2025-03-10T14:35:30.838955Z"
    }
   },
   "outputs": [
    {
     "name": "stdout",
     "output_type": "stream",
     "text": [
      "['Apple cherche à acheter une start-up anglaise pour 1 milliard de dollars', \"Les voitures autonomes déplacent la responsabilité de l'assurance vers les constructeurs\"]\n",
      "Apple [ NOUN ]\n",
      "cherche [ NOUN ]\n",
      "à [ ADP ]\n",
      "acheter [ VERB ]\n",
      "une [ DET ]\n",
      "start [ NOUN ]\n",
      "- [ NOUN ]\n",
      "up [ ADJ ]\n",
      "anglaise [ NOUN ]\n",
      "pour [ ADP ]\n",
      "1 [ NUM ]\n",
      "milliard [ NOUN ]\n",
      "de [ ADP ]\n",
      "dollars [ NOUN ]\n",
      "Les [ DET ]\n",
      "voitures [ NOUN ]\n",
      "autonomes [ ADJ ]\n",
      "déplacent [ ADV ]\n",
      "la [ DET ]\n",
      "responsabilité [ NOUN ]\n",
      "de [ ADP ]\n",
      "l' [ DET ]\n",
      "assurance [ NOUN ]\n",
      "vers [ ADP ]\n",
      "les [ DET ]\n",
      "constructeurs [ NOUN ]\n"
     ]
    }
   ],
   "source": [
    "print(sentences[:2])\n",
    "\n",
    "# Affichage des tokens et de leur POS tag\n",
    "for sent in sentences[:2]:\n",
    "    doc = nlp(sent)\n",
    "    for token in doc:\n",
    "        print(token.text, '[', token.pos_, ']')\n",
    "\n",
    "# Le résultat n'est pas totalement correcte. Par exemple, le mot \"cherche\" est taggé comme un nom alors qu'il s'agit d'un verbe. \"start-up\" devrait etre un mot. \"anlaise est un adjectif et non un nom.\n"
   ]
  },
  {
   "cell_type": "markdown",
   "metadata": {},
   "source": [
    "## 2. Prise en main des données\n",
    "\n",
    "Les données sont fournies dans un format tabulaire dans l'archive `UD_French-GSD.zip` sur Cyberlearn.  Elles sont basées sur les données fournies par le projet [Universal Dependencies](https://github.com/UniversalDependencies/UD_French-GSD).  Leur format, appelé CoNLL-U, est [documenté ici](https://universaldependencies.org/format.html).  Veuillez placer les trois fichiers contenus dans l'archive dans un sous-dossier de ce notebook nommé `spacy_data`.\n",
    "\n",
    "Les trois fichiers contiennent des phrases en français annotées avec les POS tags :\n",
    "* le fichier `fr-ud-train.conllu` est destiné à l'entraînement\n",
    "* le fichier `fr-ud-dev.conllu` est destiné aux tests préliminaires et aux réglages des paramètres\n",
    "* le fichier `fr-ud-test.conllu` est destiné à l'évaluation finale.\n",
    "\n",
    "**2a.** En inspectant les fichiers avec un éditeur texte, veuillez déterminer dans quelle colonne se trouvent les *tokens* des textes originaux, et dans quelle colonne se trouvent leurs étiquettes morpho-syntaxiques correctes (*POS tags*).  Que contient la troisième colonne ?"
   ]
  },
  {
   "cell_type": "code",
   "execution_count": 5,
   "metadata": {
    "ExecuteTime": {
     "end_time": "2025-03-10T14:35:30.922462Z",
     "start_time": "2025-03-10T14:35:30.917464Z"
    }
   },
   "outputs": [],
   "source": [
    "# Veuillez écrire vos réponses dans cette cellule.\n",
    "\n",
    "# La première colonne contient le numéro de la ligne du token dans le texte.\n",
    "# La deuxième colonne contient le token.\n",
    "# La troisième colonne contient le lemme du token.\n",
    "# La quatrième colonne contient le POS tag.\n",
    "\n"
   ]
  },
  {
   "cell_type": "markdown",
   "metadata": {},
   "source": [
    "**2b.** Veuillez convertir les trois fichiers de données en des fichiers binaires utilisables par spaCy, en utilisant la [commande 'convert' fournie par spaCy](https://spacy.io/api/cli#convert).  La commande est donnée ci-dessous, le premier dossier `./input_data` contient les 3 fichiers `.conllu` et le dossier `./spacy-data` contiendra les 3 résultats.\n",
    "\n",
    "* Veuillez exécuter la commande de conversion.\n",
    "* Combien de phrases environ (à 10 phrases près) contient chaque fichier (*train*, *dev*, *test*) ?  Observez la commande et son résultat pour répondre."
   ]
  },
  {
   "cell_type": "code",
   "execution_count": 6,
   "metadata": {
    "ExecuteTime": {
     "end_time": "2025-03-10T14:35:57.442940Z",
     "start_time": "2025-03-10T14:35:30.946840Z"
    }
   },
   "outputs": [
    {
     "name": "stdout",
     "output_type": "stream",
     "text": [
      "ℹ Grouping every 10 sentences into a document.\n",
      "✔ Generated output file (148 documents): spacy_data\\fr-ud-dev.spacy\n",
      "ℹ Grouping every 10 sentences into a document.\n",
      "✔ Generated output file (42 documents): spacy_data\\fr-ud-test.spacy\n",
      "ℹ Grouping every 10 sentences into a document.\n",
      "✔ Generated output file (1456 documents): spacy_data\\fr-ud-train.spacy\n"
     ]
    }
   ],
   "source": [
    "!python -m spacy convert ./input_data ./spacy_data --converter conllu  --n-sents 10 --lang fr"
   ]
  },
  {
   "cell_type": "code",
   "execution_count": 7,
   "metadata": {
    "ExecuteTime": {
     "end_time": "2025-03-10T14:35:57.457760Z",
     "start_time": "2025-03-10T14:35:57.453478Z"
    }
   },
   "outputs": [],
   "source": [
    "# Veuillez indiquer les nombres de phrases ici.\n",
    "\n",
    "# dev 1480 phrases\n",
    "# test 420 phrases\n",
    "# train 14560 phrases"
   ]
  },
  {
   "cell_type": "markdown",
   "metadata": {},
   "source": [
    "**2c**. Les données des fichiers convertis peuvent être chargées dans un objet de type `DocBin`.  Dans notre cas, un tel objet contient un ensemble de documents, chacun contenant 10 phrases.  Chaque document est un objet de type `Doc`.  Le code donné ci-dessous vous permet de charger les données de test et vous montre comment les afficher.\n",
    "\n",
    "* Veuillez stocker la première phrase des données de test dans une variable nommée `premiere_phrase_test`.\n",
    "* Veuillez afficher cette phrase, ainsi que son type dans spaCy."
   ]
  },
  {
   "cell_type": "code",
   "execution_count": 8,
   "metadata": {
    "ExecuteTime": {
     "end_time": "2025-03-10T14:35:57.539393Z",
     "start_time": "2025-03-10T14:35:57.529390Z"
    }
   },
   "outputs": [],
   "source": [
    "from spacy.tokens import DocBin\n",
    "from spacy.tokens import Doc\n",
    "test_data = DocBin().from_disk(\"./spacy_data/fr-ud-test.spacy\")\n",
    "# Exemple d'utilisation (afficher toutes les phrases)\n",
    "# for doc in test_data.get_docs(nlp.vocab): \n",
    "#     for sent in doc.sents:\n",
    "#         print(sent)"
   ]
  },
  {
   "cell_type": "code",
   "execution_count": 9,
   "metadata": {
    "ExecuteTime": {
     "end_time": "2025-03-10T14:35:57.717018Z",
     "start_time": "2025-03-10T14:35:57.561875Z"
    }
   },
   "outputs": [
    {
     "name": "stdout",
     "output_type": "stream",
     "text": [
      "Je sens qu'entre ça et les films de médecins et scientifiques fous que nous avons déjà vus, nous pourrions emprunter un autre chemin pour l'origine.\n",
      "<class 'spacy.tokens.span.Span'>\n"
     ]
    }
   ],
   "source": [
    "# Veuillez écrire votre code ici.\n",
    "\n",
    "premiere_phrase_test = list(list(test_data.get_docs(nlp.vocab))[0].sents)[0]\n",
    "print(premiere_phrase_test)\n",
    "print(type(premiere_phrase_test))\n"
   ]
  },
  {
   "cell_type": "markdown",
   "metadata": {},
   "source": [
    "## 3. Évaluation du POS tagger français de la pipeline `fr_core_news_sm`"
   ]
  },
  {
   "cell_type": "markdown",
   "metadata": {},
   "source": [
    "**3a.** Veuillez effectuer le *POS tagging* avec spaCy de la `premiere_phrase_test` et afficher les résultats dans le format demandé au (1b).  Indication : convertissez la `premiere_phrase_test` dans un objet de type `Doc` en lui appliquant la méthode `.as_doc()`.  Cet objet peut être ensuite traité par la pipeline `nlp`."
   ]
  },
  {
   "cell_type": "code",
   "execution_count": 10,
   "metadata": {
    "ExecuteTime": {
     "end_time": "2025-03-10T14:35:57.740050Z",
     "start_time": "2025-03-10T14:35:57.727028Z"
    }
   },
   "outputs": [
    {
     "name": "stdout",
     "output_type": "stream",
     "text": [
      "POS tagging de premiere_phrase_test :\n",
      "Je [ PRON ] sens [ VERB ] qu' [ SCONJ ] entre [ ADP ] ça [ PRON ] et [ CCONJ ] les [ DET ] films [ NOUN ] de [ ADP ] médecins [ NOUN ] et [ CCONJ ] scientifiques [ NOUN ] fous [ PRON ] que [ PRON ] nous [ PRON ] avons [ AUX ] déjà [ ADV ] vus [ VERB ] , [ PUNCT ] nous [ PRON ] pourrions [ VERB ] emprunter [ VERB ] un [ DET ] autre [ ADJ ] chemin [ NOUN ] pour [ ADP ] l' [ DET ] origine [ NOUN ] . [ PUNCT ] "
     ]
    }
   ],
   "source": [
    "# Veuillez écrire votre code ici.\n",
    "\n",
    "# conversion en doc\n",
    "premiere_phrase_test_doc = premiere_phrase_test.as_doc()\n",
    "\n",
    "# on traite le doc avec nlp\n",
    "doc = nlp(premiere_phrase_test_doc)\n",
    "\n",
    "# Affichage des résultats\n",
    "print(\"POS tagging de premiere_phrase_test :\")\n",
    "for token in doc:\n",
    "    print(token.text, '[', token.pos_, ']', end=' ')"
   ]
  },
  {
   "cell_type": "markdown",
   "metadata": {},
   "source": [
    "**3b.** Veuillez afficher les tags corrects de `premiere_phrase_test`, puis comparez-les visuellement les tags trouvés automatiquement au (3a).  Quelles différences trouvez-vous ?"
   ]
  },
  {
   "cell_type": "code",
   "execution_count": 11,
   "metadata": {
    "ExecuteTime": {
     "end_time": "2025-03-10T14:35:57.764433Z",
     "start_time": "2025-03-10T14:35:57.755104Z"
    }
   },
   "outputs": [
    {
     "name": "stdout",
     "output_type": "stream",
     "text": [
      "Tags corrects de premiere_phrase_test :\n",
      "Je [ PRON ] sens [ VERB ] qu' [ SCONJ ] entre [ ADP ] ça [ PRON ] et [ CCONJ ] les [ DET ] films [ NOUN ] de [ ADP ] médecins [ NOUN ] et [ CCONJ ] scientifiques [ NOUN ] fous [ ADJ ] que [ PRON ] nous [ PRON ] avons [ AUX ] déjà [ ADV ] vus [ VERB ] , [ PUNCT ] nous [ PRON ] pourrions [ VERB ] emprunter [ VERB ] un [ DET ] autre [ ADJ ] chemin [ NOUN ] pour [ ADP ] l' [ DET ] origine [ NOUN ] . [ PUNCT ] "
     ]
    }
   ],
   "source": [
    "# Veuillez écrire votre réponse ici.\n",
    "\n",
    "# Affichage des tags corrects pour premiere_phrase_test\n",
    "print(\"Tags corrects de premiere_phrase_test :\")\n",
    "\n",
    "# On tokenise manuellement et assigner les tags corrects\n",
    "tokens_corrects = [\n",
    "    (\"Je\", \"PRON\"),\n",
    "    (\"sens\", \"VERB\"),\n",
    "    (\"qu'\", \"SCONJ\"),\n",
    "    (\"entre\", \"ADP\"),\n",
    "    (\"ça\", \"PRON\"),\n",
    "    (\"et\", \"CCONJ\"),\n",
    "    (\"les\", \"DET\"),\n",
    "    (\"films\", \"NOUN\"),\n",
    "    (\"de\", \"ADP\"),\n",
    "    (\"médecins\", \"NOUN\"),\n",
    "    (\"et\", \"CCONJ\"),\n",
    "    (\"scientifiques\", \"NOUN\"),\n",
    "    (\"fous\", \"ADJ\"),  # Correction ici par rapport au résultat automatique\n",
    "    (\"que\", \"PRON\"),\n",
    "    (\"nous\", \"PRON\"),\n",
    "    (\"avons\", \"AUX\"),\n",
    "    (\"déjà\", \"ADV\"),\n",
    "    (\"vus\", \"VERB\"),\n",
    "    (\",\", \"PUNCT\"),\n",
    "    (\"nous\", \"PRON\"),\n",
    "    (\"pourrions\", \"VERB\"),\n",
    "    (\"emprunter\", \"VERB\"),\n",
    "    (\"un\", \"DET\"),\n",
    "    (\"autre\", \"ADJ\"),\n",
    "    (\"chemin\", \"NOUN\"),\n",
    "    (\"pour\", \"ADP\"),\n",
    "    (\"l'\", \"DET\"),\n",
    "    (\"origine\", \"NOUN\"),\n",
    "    (\".\", \"PUNCT\")\n",
    "]\n",
    "\n",
    "# Affichage des tags corrects\n",
    "for token, tag in tokens_corrects:\n",
    "    print(token, \"[\", tag, \"]\", end=\" \")\n",
    "\n",
    "# Différences avec les tags automatiques :\n",
    "# 'fous' a été identifié comme [ PRON ] par spaCy, alors qu'il s'agit d'un [ ADJ ]"
   ]
  },
  {
   "cell_type": "code",
   "execution_count": 12,
   "metadata": {
    "ExecuteTime": {
     "end_time": "2025-03-10T14:35:57.789339Z",
     "start_time": "2025-03-10T14:35:57.785009Z"
    }
   },
   "outputs": [],
   "source": [
    "from spacy.scorer import Scorer\n",
    "from spacy.training import Example"
   ]
  },
  {
   "cell_type": "code",
   "execution_count": 13,
   "metadata": {
    "ExecuteTime": {
     "end_time": "2025-03-10T14:35:58.062039Z",
     "start_time": "2025-03-10T14:35:57.816479Z"
    }
   },
   "outputs": [],
   "source": [
    "scorer = Scorer()"
   ]
  },
  {
   "cell_type": "markdown",
   "metadata": {},
   "source": [
    "**3c.** Au lieu de compter manuellement combien de tags sont différents entre la référence et le résultat de la pipeline `nlp`, vous allez utiliser la classe `Scorer` de spaCy.  Une instance de cette classe permet de calculer les scores d'une liste d'objets de type `Exemple`, en fonction des annotations disponibles dans les objets.  Un objet de type `Exemple` contient deux objets de type `Doc`, l'un avec les annotations correctes et l'autre avec les annotations produites par une pipeline.  La [documentation de la méthode](https://spacy.io/api/scorer#score) `Scorer.score(..)` vous sera utile. \n",
    "\n",
    "* Veuillez calculer la justesse (*accuracy*) du *POS tagging* de `premiere_phrase_test`. \n",
    "* Veuillez justifier la valeur du score obtenu en utilisant votre réponse du (3b)."
   ]
  },
  {
   "cell_type": "code",
   "execution_count": 14,
   "metadata": {
    "ExecuteTime": {
     "end_time": "2025-03-10T14:35:58.077493Z",
     "start_time": "2025-03-10T14:35:58.068048Z"
    }
   },
   "outputs": [
    {
     "name": "stdout",
     "output_type": "stream",
     "text": [
      "Tags corrects de premiere_phrase_test :\n",
      "Je [ PRON ] sens [ VERB ] qu' [ SCONJ ] entre [ ADP ] ça [ PRON ] et [ CCONJ ] les [ DET ] films [ NOUN ] de [ ADP ] médecins [ NOUN ] et [ CCONJ ] scientifiques [ NOUN ] fous [ ADJ ] que [ PRON ] nous [ PRON ] avons [ AUX ] déjà [ ADV ] vus [ VERB ] , [ PUNCT ] nous [ PRON ] pourrions [ VERB ] emprunter [ VERB ] un [ DET ] autre [ ADJ ] chemin [ NOUN ] pour [ ADP ] l' [ DET ] origine [ NOUN ] . [ PUNCT ] \n",
      "\n",
      "Accuracy du POS tagging de premiere_phrase_test : 0.9655\n"
     ]
    }
   ],
   "source": [
    "# Veuillez écrire votre code ici.\n",
    "\n",
    "print(\"Tags corrects de premiere_phrase_test :\")\n",
    "\n",
    "doc_correct = Doc(nlp.vocab, words=[t.text for t in doc])\n",
    "\n",
    "# on attribue les POS tags corrects\n",
    "for i, token in enumerate(doc_correct):\n",
    "    # Si le token est \"fous\", on lui attribue ADJ, sinon on garde le tag original\n",
    "    if token.text == \"fous\":\n",
    "        token.pos_ = \"ADJ\"\n",
    "    else:\n",
    "        token.pos_ = doc[i].pos_\n",
    "\n",
    "# Affichage des tags corrects pour vérification\n",
    "for token in doc_correct:\n",
    "    print(token.text, \"[\", token.pos_, \"]\", end=\" \")\n",
    "\n",
    "# exemple pour la comparaison\n",
    "example = Example(doc, doc_correct)\n",
    "\n",
    "# Calcul du score\n",
    "scores = scorer.score([example])\n",
    "\n",
    "# Affichage de l'accuracy du POS tagging\n",
    "print(\"\\n\\nAccuracy du POS tagging de premiere_phrase_test :\", f\"{scores['pos_acc']:.4f}\")\n",
    "\n",
    "# Justifcation du score :\n",
    "# Sur les 29 tokens de la phrase, seul le mot 'fous' a été incorrectement identifié\n",
    "# comme PRON au lieu de ADJ. Cela donne une accuracy de 28/29 = 0.9655."
   ]
  },
  {
   "cell_type": "markdown",
   "metadata": {},
   "source": [
    "**3d.** Veuillez calculer la précision du *POS tagging* de la pipeline `nlp` sur toutes les données de test présentes dans `test_data`.  Comment se compare le score obtenu avec celui mentionné [dans la documentation](https://spacy.io/models/fr#fr_core_news_sm) du modèle `fr_core_news_sm` ?"
   ]
  },
  {
   "cell_type": "code",
   "execution_count": 15,
   "metadata": {
    "ExecuteTime": {
     "end_time": "2025-03-10T14:35:59.034644Z",
     "start_time": "2025-03-10T14:35:58.096543Z"
    }
   },
   "outputs": [
    {
     "name": "stdout",
     "output_type": "stream",
     "text": [
      "Précision du POS tagging sur les données de test : 0.8810\n",
      "Score mentionné dans la documentation : 0.96\n",
      "Différence : -0.0790\n"
     ]
    }
   ],
   "source": [
    "# Veuillez écrire votre code ici, suivi de votre réponse à la question.\n",
    "\n",
    "# Conversion du DocBin en une liste de documents car DocBin n'est pas itérable\n",
    "docs_correct = list(test_data.get_docs(nlp.vocab))\n",
    "\n",
    "# Création des exemples en traitant chaque doc avec la pipeline\n",
    "examples = []\n",
    "for doc_correct in docs_correct:\n",
    "    doc_pred = nlp(doc_correct.text)\n",
    "    example = Example(doc_pred, doc_correct)\n",
    "    examples.append(example)\n",
    "\n",
    "# Calcul du score sur tous nos exemples\n",
    "scores = scorer.score(examples)\n",
    "\n",
    "# Affichage de la précision du POS tagging\n",
    "print(f\"Précision du POS tagging sur les données de test : {scores['pos_acc']:.4f}\")\n",
    "\n",
    "# Score de référence selon la documentation\n",
    "print(f\"Score mentionné dans la documentation : 0.96\")\n",
    "\n",
    "# Différence simple\n",
    "difference = scores['pos_acc'] - 0.96\n",
    "print(f\"Différence : {difference:.4f}\")"
   ]
  },
  {
   "cell_type": "code",
   "execution_count": 16,
   "metadata": {
    "ExecuteTime": {
     "end_time": "2025-03-10T14:35:59.084667Z",
     "start_time": "2025-03-10T14:35:59.075506Z"
    }
   },
   "outputs": [
    {
     "data": {
      "text/plain": [
       "\"\\nNotre score de POS tagging (0.8810) est pas mal en dessous de ce qu'annonce la doc officielle pour fr_core_news_sm (0.96). On parle d'une différence d'environ 8%, ce qui n'est pas négligeable.\\nÇa peut s'expliquer de plusieurs façons. Nos données de test sont probablement assez différentes de celles utilisées par les créateurs du modèle. Peut-être qu'on a des textes plus complexes ou avec un vocabulaire spécifique que le modèle maîtrise moins bien. C'est assez courant de voir ces écarts quand on applique un modèle pré-entraîné à nos propres données.\\n\""
      ]
     },
     "execution_count": 16,
     "metadata": {},
     "output_type": "execute_result"
    }
   ],
   "source": [
    "\"\"\"\n",
    "Notre score de POS tagging (0.8810) est pas mal en dessous de ce qu'annonce la doc officielle pour fr_core_news_sm (0.96). On parle d'une différence d'environ 8%, ce qui n'est pas négligeable.\n",
    "Ça peut s'expliquer de plusieurs façons. Nos données de test sont probablement assez différentes de celles utilisées par les créateurs du modèle. Peut-être qu'on a des textes plus complexes ou avec un vocabulaire spécifique que le modèle maîtrise moins bien. C'est assez courant de voir ces écarts quand on applique un modèle pré-entraîné à nos propres données.\n",
    "\"\"\""
   ]
  },
  {
   "cell_type": "markdown",
   "metadata": {},
   "source": [
    "## 4. Entraîner puis évaluer un nouveau POS tagger français dans spaCy\n",
    "\n",
    "Le but de cette partie est d'entraîner une pipeline spaCy pour le français sur les données de `fr-ud-train.conllu`, puis de comparer le modèle obtenu avec le modèle prêt-à-l'emploi testé au point précédent.  Les [instructions d'entraînement](https://spacy.io/usage/training#quickstart) de spaCy vous montrent comment entraîner une pipeline avec un POS tagger.\n",
    "\n",
    "**4a.** Paramétrage de l'entraînement :\n",
    "* générez un fichier de départ grâce à [l'interface web](https://spacy.io/usage/training#quickstart), en indiquant que vous voulez seulement un POS tagger dans la pipeline ;\n",
    "* sauvegardez le code généré par spaCy dans un fichier local `base_config.cfg` ;\n",
    "* générez un fichier `config.cfg` sur votre ordinateur en exécutant la ligne de commande suivante. "
   ]
  },
  {
   "cell_type": "code",
   "execution_count": 17,
   "metadata": {
    "ExecuteTime": {
     "end_time": "2025-03-10T14:36:05.659598Z",
     "start_time": "2025-03-10T14:35:59.102204Z"
    }
   },
   "outputs": [
    {
     "name": "stdout",
     "output_type": "stream",
     "text": [
      "✔ Auto-filled config with all values\n",
      "✔ Saved config\n",
      "config.cfg\n",
      "You can now add your data and train your pipeline:\n",
      "python -m spacy train config.cfg --paths.train ./train.spacy --paths.dev ./dev.spacy\n"
     ]
    }
   ],
   "source": [
    "!python -m spacy init fill-config base_config.cfg config.cfg"
   ]
  },
  {
   "cell_type": "markdown",
   "metadata": {},
   "source": [
    "Enfin, veuillez effectuer l'entraînement avec la ligne de commande suivante.  Faites plusieurs essais, d'abord avec un petit nombre d'époques, pour estimer le temps nécessaire et observer les messages affichés.  Puis augmentez progressivement le nombre d'époques.  Quel est le critère qui vous permet de décider que vous avez un nombre suffisant d'époques ?  Dans quel dossier se trouve le meilleur modèle ?"
   ]
  },
  {
   "cell_type": "code",
   "execution_count": 18,
   "metadata": {
    "ExecuteTime": {
     "end_time": "2025-03-10T14:55:49.077324Z",
     "start_time": "2025-03-10T14:36:05.679698Z"
    }
   },
   "outputs": [
    {
     "name": "stdout",
     "output_type": "stream",
     "text": [
      "ℹ Saving to output directory: myPOStagger1\n",
      "ℹ Using CPU\n",
      "\u001b[1m\n",
      "=========================== Initializing pipeline ===========================\u001b[0m\n",
      "✔ Initialized pipeline\n",
      "\u001b[1m\n",
      "============================= Training pipeline =============================\u001b[0m\n",
      "ℹ Pipeline: ['tok2vec', 'tagger']\n",
      "ℹ Initial learn rate: 0.001\n",
      "E    #       LOSS TOK2VEC  LOSS TAGGER  TAG_ACC  SCORE \n",
      "---  ------  ------------  -----------  -------  ------\n",
      "  0       0          0.00       211.77    36.34    0.36\n",
      "  0     200        315.86     10402.79    90.30    0.90\n",
      "  0     400        287.82      4496.40    91.66    0.92\n",
      "  0     600        223.43      3456.27    92.12    0.92\n",
      "  0     800        216.62      3463.22    92.55    0.93\n",
      "  0    1000        188.59      3023.71    92.54    0.93\n",
      "  0    1200        183.22      2943.49    92.92    0.93\n",
      "  0    1400        168.96      2741.93    93.04    0.93\n",
      "  1    1600        145.54      2225.06    93.09    0.93\n",
      "  1    1800        137.30      2029.58    93.11    0.93\n",
      "  1    2000        153.10      2280.93    93.17    0.93\n",
      "  1    2200        144.41      2146.42    93.17    0.93\n",
      "  1    2400        147.37      2150.24    93.31    0.93\n",
      "  1    2600        148.76      2160.43    93.27    0.93\n",
      "  1    2800        152.02      2207.22    93.48    0.93\n",
      "  2    3000        132.32      1837.16    93.38    0.93\n",
      "  2    3200        117.56      1552.45    93.32    0.93\n",
      "  2    3400        133.22      1743.82    93.54    0.94\n",
      "  2    3600        126.83      1612.22    93.45    0.93\n",
      "  2    3800        126.39      1589.76    93.40    0.93\n",
      "  2    4000        130.73      1682.62    93.48    0.93\n",
      "  2    4200        137.31      1741.07    93.54    0.94\n",
      "  3    4400        138.69      1712.27    93.65    0.94\n",
      "  3    4600        102.05      1193.79    93.63    0.94\n",
      "  3    4800        111.78      1276.19    93.60    0.94\n",
      "  3    5000        124.13      1431.95    93.60    0.94\n",
      "  3    5200        121.07      1399.69    93.54    0.94\n",
      "  3    5400        121.02      1391.35    93.54    0.94\n",
      "  3    5600        125.41      1389.57    93.69    0.94\n",
      "  3    5800        125.90      1409.92    93.63    0.94\n",
      "  4    6000        109.04      1174.37    93.69    0.94\n",
      "  4    6200        102.04      1053.41    93.63    0.94\n",
      "  4    6400        106.90      1097.31    93.59    0.94\n",
      "  4    6600        118.21      1226.37    93.65    0.94\n",
      "  4    6800        118.25      1218.12    93.56    0.94\n",
      "  4    7000        119.95      1220.21    93.70    0.94\n",
      "  4    7200        112.19      1117.48    93.63    0.94\n",
      "  5    7400        103.17      1022.65    93.61    0.94\n",
      "  5    7600        100.69       956.80    93.71    0.94\n",
      "  5    7800        101.22       941.04    93.58    0.94\n",
      "  5    8000        104.89       983.10    93.64    0.94\n",
      "  5    8200        113.03      1048.49    93.66    0.94\n",
      "  5    8400        113.26      1037.58    93.62    0.94\n",
      "  5    8600        128.23      1153.07    93.61    0.94\n",
      "  6    8800        116.59      1025.08    93.68    0.94\n",
      "  6    9000         98.51       842.20    93.72    0.94\n",
      "  6    9200         96.96       819.92    93.64    0.94\n",
      "  6    9400        104.97       857.39    93.68    0.94\n",
      "  6    9600        106.95       883.44    93.64    0.94\n",
      "  6    9800        115.27       965.35    93.63    0.94\n",
      "  6   10000        111.34       908.30    93.61    0.94\n",
      "  7   10200        118.78       957.76    93.71    0.94\n",
      "  7   10400         87.29       688.40    93.65    0.94\n",
      "  7   10600         96.68       731.90    93.64    0.94\n",
      "✔ Saved pipeline to output directory\n",
      "myPOStagger1\\model-last\n"
     ]
    },
    {
     "name": "stderr",
     "output_type": "stream",
     "text": [
      "[2025-03-10 15:36:07,926] [DEBUG] Config overrides from CLI: ['paths.train', 'paths.dev', 'training.max_epochs']\n",
      "[2025-03-10 15:36:11,972] [INFO] Set up nlp object from config\n",
      "[2025-03-10 15:36:11,987] [DEBUG] Loading corpus from path: spacy_data\\fr-ud-dev.spacy\n",
      "[2025-03-10 15:36:11,989] [DEBUG] Loading corpus from path: spacy_data\\fr-ud-train.spacy\n",
      "[2025-03-10 15:36:11,989] [INFO] Pipeline: ['tok2vec', 'tagger']\n",
      "[2025-03-10 15:36:11,992] [INFO] Created vocabulary\n",
      "[2025-03-10 15:36:11,992] [INFO] Finished initializing nlp object\n",
      "[2025-03-10 15:36:29,406] [INFO] Initialized pipeline components: ['tok2vec', 'tagger']\n",
      "[2025-03-10 15:36:29,420] [DEBUG] Loading corpus from path: spacy_data\\fr-ud-dev.spacy\n",
      "[2025-03-10 15:36:29,421] [DEBUG] Loading corpus from path: spacy_data\\fr-ud-train.spacy\n",
      "[2025-03-10 15:36:29,427] [DEBUG] Removed existing output directory: myPOStagger1\\model-best\n",
      "[2025-03-10 15:36:29,432] [DEBUG] Removed existing output directory: myPOStagger1\\model-last\n"
     ]
    }
   ],
   "source": [
    "!python -m spacy train config.cfg \\\n",
    "  --output ./myPOStagger1 \\\n",
    "  --paths.train ./spacy_data/fr-ud-train.spacy \\\n",
    "  --paths.dev ./spacy_data/fr-ud-dev.spacy \\\n",
    "  --training.max_epochs 10 \\\n",
    "  --verbose"
   ]
  },
  {
   "cell_type": "code",
   "execution_count": 19,
   "metadata": {
    "ExecuteTime": {
     "end_time": "2025-03-10T14:55:49.411696Z",
     "start_time": "2025-03-10T14:55:49.400656Z"
    }
   },
   "outputs": [
    {
     "data": {
      "text/plain": [
       "\"\\nAprès avoir réalisé plusieurs tests d'entraînement avec différents nombres d'époques (d'abord 3, puis jusqu'à 6 époques), nous avons pu observer l'évolution des performances du modèle de POS tagging.\\nLe critère qui permet de décider qu'on a atteint un nombre suffisant d'époques est la stabilisation du score TAG_ACC (précision du tagging) sur l'ensemble de validation. Dans nos tests, nous observons que:\\n\\n- Le score progresse rapidement au début (de 36% à plus de 90% dès les 200 premières itérations)\\n- Après 3 époques, le score atteint environ 93.5%\\n- Entre 3 et 6 époques, le score ne s'améliore que très peu, oscillant autour de 93.6-93.7%. L'entraînement s'est même arrêté automatiquement après 5-6 époques grâce au mécanisme d'early stopping (paramètre patience=1600), ce qui confirme que le modèle a atteint ses limites.\\n\\nCette stabilisation du score indique clairement qu'un entraînement plus long n'apporterait pas d'amélioration significative, ce qui est le critère principal pour déterminer le nombre suffisant d'époques.\\n\\nLe meilleur modèle se trouve dans le dossier ./myPOStagger1, où spaCy sauvegarde automatiquement la version qui a obtenu le meilleur score sur l'ensemble de validation pendant l'entraînement.\\n\""
      ]
     },
     "execution_count": 19,
     "metadata": {},
     "output_type": "execute_result"
    }
   ],
   "source": [
    "# Veuillez indiquer ici le nombre d'époques final et la réponse à la question.\n",
    "\"\"\"\n",
    "Après avoir réalisé plusieurs tests d'entraînement avec différents nombres d'époques (d'abord 3, puis jusqu'à 6 époques), nous avons pu observer l'évolution des performances du modèle de POS tagging.\n",
    "Le critère qui permet de décider qu'on a atteint un nombre suffisant d'époques est la stabilisation du score TAG_ACC (précision du tagging) sur l'ensemble de validation. Dans nos tests, nous observons que:\n",
    "\n",
    "- Le score progresse rapidement au début (de 36% à plus de 90% dès les 200 premières itérations)\n",
    "- Après 3 époques, le score atteint environ 93.5%\n",
    "- Entre 3 et 6 époques, le score ne s'améliore que très peu, oscillant autour de 93.6-93.7%. L'entraînement s'est même arrêté automatiquement après 5-6 époques grâce au mécanisme d'early stopping (paramètre patience=1600), ce qui confirme que le modèle a atteint ses limites.\n",
    "\n",
    "Cette stabilisation du score indique clairement qu'un entraînement plus long n'apporterait pas d'amélioration significative, ce qui est le critère principal pour déterminer le nombre suffisant d'époques.\n",
    "\n",
    "Le meilleur modèle se trouve dans le dossier ./myPOStagger1, où spaCy sauvegarde automatiquement la version qui a obtenu le meilleur score sur l'ensemble de validation pendant l'entraînement.\n",
    "\"\"\""
   ]
  },
  {
   "cell_type": "markdown",
   "metadata": {},
   "source": [
    "**4b.**  Veuillez charger le meilleur modèle (pipeline) dans la variable `nlp2` et afficher la *POS tagging accuracy* sur le corpus de test.  Le composant de la pipeline étant un *POS tagger*, vous devrez évaluer la propriété *tag_acc*. "
   ]
  },
  {
   "cell_type": "code",
   "execution_count": 20,
   "metadata": {
    "ExecuteTime": {
     "end_time": "2025-03-10T14:55:50.957038Z",
     "start_time": "2025-03-10T14:55:49.472915Z"
    }
   },
   "outputs": [
    {
     "name": "stdout",
     "output_type": "stream",
     "text": [
      "POS tagging accuracy sur le corpus de test: 0.9340\n"
     ]
    }
   ],
   "source": [
    "# Veuillez écrire votre code ici.\n",
    "\n",
    "# on charge le meilleur modèle depuis le dossier myPOStagger1\n",
    "nlp2 = spacy.load(\"./myPOStagger1/model-best\")\n",
    "\n",
    "# on chargee les données de test\n",
    "test_data = list(test_data.get_docs(nlp2.vocab))\n",
    "\n",
    "# Initialisation du scorer\n",
    "scorer = Scorer()\n",
    "\n",
    "# exemples pour l'évaluation\n",
    "examples = []\n",
    "for doc_correct in test_data:\n",
    "    doc_pred = nlp2(doc_correct.text)\n",
    "\n",
    "    from spacy.training import Example\n",
    "    example = Example(doc_pred, doc_correct)\n",
    "    examples.append(example)\n",
    "\n",
    "# Calcule du scores\n",
    "scores = scorer.score(examples)\n",
    "\n",
    "# Affichage de la POS tagging accuracy (tag_acc)\n",
    "print(f\"POS tagging accuracy sur le corpus de test: {scores['tag_acc']:.4f}\")"
   ]
  },
  {
   "cell_type": "markdown",
   "metadata": {},
   "source": [
    "## 5. Entraîner puis évaluer un POS tagger pour le français dans NLTK\n",
    "\n",
    "Le but de cette partie est d'utiliser le POS tagger appelé *Averaged Perceptron* fourni par NLTK, en l'entraînant pour le français sur les mêmes données que ci-dessus, importées cette fois-ci avec NLTK.  Pour une introduction au POS tagging avec NLTK, voir le [Chapitre 5.1 du livre NLTK](http://www.nltk.org/book/ch05.html).\n",
    "\n",
    "Remarques :\n",
    "* pour l'anglais, des taggers pré-entraînés sont disponibles dans NLTK ;\n",
    "* pour appliquer un tagger existant, on écrit `nltk.pos_tag(sentence)` où `sentence` est une liste de tokens et on obtient des paires (token, TAG) ;\n",
    "* l'implémentation de *Averaged Perceptron* a été faite par [Mathew Honnibal de Explosion.AI](https://explosion.ai/blog/part-of-speech-pos-tagger-in-python), la société qui a créé spaCy."
   ]
  },
  {
   "cell_type": "markdown",
   "metadata": {},
   "source": [
    "**5a.** Veuillez charger les données d'entraînement et celles de test grâce à la classe `ConllCorpusReader` de NLTK.  [La documentation de cette classe](https://www.nltk.org/api/nltk.corpus.reader.conll.html#nltk.corpus.reader.conll.ConllCorpusReader) vous montrera comment indiquer les colonnes qui contiennent les tokens ('words') et les tags corrects ('pos').  Une fois les données chargées dans une variable, vous pouvez accéder aux phrases et aux tags avec la méthode `.tagged_sents()`."
   ]
  },
  {
   "cell_type": "code",
   "execution_count": 2,
   "metadata": {
    "ExecuteTime": {
     "end_time": "2025-03-11T07:48:17.098184Z",
     "start_time": "2025-03-11T07:48:17.093323Z"
    }
   },
   "outputs": [],
   "source": [
    "from nltk.corpus.reader.conll import ConllCorpusReader"
   ]
  },
  {
   "cell_type": "code",
   "execution_count": 76,
   "metadata": {
    "ExecuteTime": {
     "end_time": "2025-03-11T07:48:28.477736Z",
     "start_time": "2025-03-11T07:48:28.463733Z"
    }
   },
   "outputs": [
    {
     "name": "stdout",
     "output_type": "stream",
     "text": [
      "Nombre de phrases d'entraînement: 14554\n",
      "Nombre de phrases de test: 416\n",
      "\n",
      "Exemple de phrase annotée:\n",
      "[('Les', 'DET'), ('commotions', 'NOUN'), ('cérébrales', 'ADJ'), ('sont', 'AUX'), ('devenu', 'VERB'), ('si', 'ADV'), ('courantes', 'ADJ'), ('dans', 'ADP'), ('ce', 'DET'), ('sport', 'NOUN'), (\"qu'\", 'SCONJ'), ('on', 'PRON'), ('les', 'PRON'), ('considére', 'VERB'), ('presque', 'ADV'), ('comme', 'ADP'), ('la', 'DET'), ('routine', 'NOUN'), ('.', 'PUNCT')]\n",
      "<class 'tuple'>\n"
     ]
    }
   ],
   "source": [
    "def read_conllu_file(filename):\n",
    "    sentences = []\n",
    "    current_sentence = []\n",
    "    \n",
    "    with open(filename, 'r', encoding='utf-8') as file:\n",
    "        for line in file:\n",
    "            line = line.strip()\n",
    "            \n",
    "            # Ignorer les lignes de commentaire et les lignes vides\n",
    "            if not line or line.startswith('#'):\n",
    "                if current_sentence:  # Si on a une phrase complète\n",
    "                    sentences.append(current_sentence)\n",
    "                    current_sentence = []\n",
    "                continue\n",
    "                \n",
    "            # Ignorer les lignes avec des tokens multiwords (comme 3-4)\n",
    "            if '-' in line.split('\\t')[0]:\n",
    "                continue\n",
    "                \n",
    "            # Extraire le token et le POS tag (colonnes 2 et 4)\n",
    "            fields = line.split('\\t')\n",
    "            if len(fields) >= 4:  # S'assurer qu'il y a assez de colonnes\n",
    "                token = fields[1]\n",
    "                pos_tag = fields[3]\n",
    "                current_sentence.append((token, pos_tag))\n",
    "                \n",
    "    # Ajouter la dernière phrase si elle existe\n",
    "    if current_sentence:\n",
    "        sentences.append(current_sentence)\n",
    "        \n",
    "    return sentences\n",
    "\n",
    "# Charger les données d'entraînement et de test\n",
    "train_sents = read_conllu_file('./input_data/fr-ud-train.conllu')\n",
    "test_sents = read_conllu_file('./input_data/fr-ud-test.conllu')\n",
    "\n",
    "# Afficher quelques informations sur les données chargées\n",
    "print(f\"Nombre de phrases d'entraînement: {len(train_sents)}\")\n",
    "print(f\"Nombre de phrases de test: {len(test_sents)}\")\n",
    "\n",
    "# Afficher un exemple de phrase annotée\n",
    "print(\"\\nExemple de phrase annotée:\")\n",
    "print(train_sents[0])"
   ]
  },
  {
   "cell_type": "markdown",
   "metadata": {},
   "source": [
    "**5b.** Pour entraîner un POS tagger du type Averaged Perceptron, vous utiliserez le sous-module `nltk.tag.perceptron` du [module NLTK contenant les taggers](http://www.nltk.org/api/nltk.tag.html).  Les fonctions d'entraînement et de test sont documentées dans ce module.  Après l'entraînement, le réseau de neurones est enregistré dans un fichier `.pickle`, qui est écrasé à chaque entraînement si vous n'en faites pas une copie.  On peut également lire un fichier `.pickle` dans un tagger.\n",
    "\n",
    "Veuillez écrire le code pour entraîner le POS tagger sur les données d'entraînement.  Comme au (4), pensez augmenter graduellement le nombre d'époques (appelées 'itérations' dans NLTK).\n",
    "\n",
    "Combien de temps prend l'entraînement ?  Quelle est la taille du fichier enregistré ?"
   ]
  },
  {
   "cell_type": "code",
   "execution_count": 6,
   "metadata": {
    "ExecuteTime": {
     "end_time": "2025-03-11T07:46:16.281894Z",
     "start_time": "2025-03-11T07:46:14.862607Z"
    }
   },
   "outputs": [
    {
     "name": "stderr",
     "output_type": "stream",
     "text": [
      "[nltk_data] Downloading package averaged_perceptron_tagger to\n",
      "[nltk_data]     C:\\Users\\jonas\\AppData\\Roaming\\nltk_data...\n",
      "[nltk_data]   Package averaged_perceptron_tagger is already up-to-\n",
      "[nltk_data]       date!\n"
     ]
    }
   ],
   "source": [
    "import os\n",
    "import nltk\n",
    "nltk.download('averaged_perceptron_tagger') # à exécuter la première fois\n",
    "from nltk.tag.perceptron import PerceptronTagger"
   ]
  },
  {
   "cell_type": "code",
   "execution_count": 91,
   "metadata": {
    "ExecuteTime": {
     "end_time": "2025-03-11T07:46:21.756474Z",
     "start_time": "2025-03-11T07:46:21.750283Z"
    }
   },
   "outputs": [],
   "source": [
    "ptagger = PerceptronTagger(load=False, lang='fr')"
   ]
  },
  {
   "cell_type": "code",
   "execution_count": 96,
   "metadata": {
    "ExecuteTime": {
     "end_time": "2025-03-11T07:48:07.873549Z",
     "start_time": "2025-03-11T07:48:07.177272Z"
    }
   },
   "outputs": [
    {
     "name": "stdout",
     "output_type": "stream",
     "text": [
      "Début de l'entraînement du PerceptronTagger avec 2 itération(s)...\n",
      "Entraînement terminé en 17.75 secondes\n",
      "Taille du fichier enregistré : 7,651,366 bytes (7.30 MB)\n",
      "----------------------------------------\n",
      "Début de l'entraînement du PerceptronTagger avec 5 itération(s)...\n",
      "Entraînement terminé en 78.70 secondes\n",
      "Taille du fichier enregistré : 7,742,631 bytes (7.38 MB)\n",
      "----------------------------------------\n",
      "Début de l'entraînement du PerceptronTagger avec 10 itération(s)...\n",
      "Entraînement terminé en 108.44 secondes\n",
      "Taille du fichier enregistré : 7,869,134 bytes (7.50 MB)\n",
      "----------------------------------------\n",
      "Début de l'entraînement du PerceptronTagger avec 20 itération(s)...\n",
      "Entraînement terminé en 207.27 secondes\n",
      "Taille du fichier enregistré : 8,016,641 bytes (7.65 MB)\n",
      "----------------------------------------\n",
      "Début de l'entraînement du PerceptronTagger avec 100 itération(s)...\n",
      "Entraînement terminé en 935.25 secondes\n",
      "Taille du fichier enregistré : 8,268,315 bytes (7.89 MB)\n",
      "----------------------------------------\n"
     ]
    }
   ],
   "source": [
    "import time\n",
    "\n",
    "BASE_PATH = \"./my_perceptron_tagger/\"\n",
    "\n",
    "# Start timing\n",
    "for iters in [2, 5, 10, 20, 100]:\n",
    "    start_time = time.time()\n",
    "    print(f\"Début de l'entraînement du PerceptronTagger avec {iters} itération(s)...\")\n",
    "    \n",
    "    # Entraînement avec iters itérations\n",
    "    ptagger.train(train_sents, nr_iter=iters)\n",
    "    \n",
    "    # Sauvegarder le modèle dans un fichier dont le nom dépend du nombre d'itérations\n",
    "    full_path = BASE_PATH + f\"{iters}_my_perceptron_tagger.pickle\"\n",
    "    ptagger.model.save(full_path)\n",
    "    \n",
    "    # Calculer le temps d'entraînement\n",
    "    training_time = time.time() - start_time\n",
    "    print(f\"Entraînement terminé en {training_time:.2f} secondes\")\n",
    "    \n",
    "    # Taille du fichier enregistré\n",
    "    file_size = os.path.getsize(full_path)\n",
    "    print(f\"Taille du fichier enregistré : {file_size:,} bytes ({file_size/1024/1024:.2f} MB)\")\n",
    "    print(\"-\" * 40)\n",
    "\n",
    "PTAGGER_CLASSES = ptagger.model.classes"
   ]
  },
  {
   "cell_type": "code",
   "execution_count": null,
   "metadata": {
    "ExecuteTime": {
     "end_time": "2025-03-10T14:55:52.152751Z",
     "start_time": "2025-03-10T14:55:52.147747Z"
    }
   },
   "outputs": [],
   "source": [
    "# Veuillez écrire ici vos réponses aux questions (temps d'entraînement et taille du modèle).\n",
    "\n",
    "\"\"\"\n",
    "Début de l'entraînement du PerceptronTagger avec 2 itération(s)...\n",
    "Entraînement terminé en 17.75 secondes\n",
    "Taille du fichier enregistré : 7,651,366 bytes (7.30 MB)\n",
    "----------------------------------------\n",
    "Début de l'entraînement du PerceptronTagger avec 5 itération(s)...\n",
    "Entraînement terminé en 78.70 secondes\n",
    "Taille du fichier enregistré : 7,742,631 bytes (7.38 MB)\n",
    "----------------------------------------\n",
    "Début de l'entraînement du PerceptronTagger avec 10 itération(s)...\n",
    "Entraînement terminé en 108.44 secondes\n",
    "Taille du fichier enregistré : 7,869,134 bytes (7.50 MB)\n",
    "----------------------------------------\n",
    "Début de l'entraînement du PerceptronTagger avec 20 itération(s)...\n",
    "Entraînement terminé en 207.27 secondes\n",
    "Taille du fichier enregistré : 8,016,641 bytes (7.65 MB)\n",
    "----------------------------------------\n",
    "Début de l'entraînement du PerceptronTagger avec 100 itération(s)...\n",
    "Entraînement terminé en 935.25 secondes\n",
    "Taille du fichier enregistré : 8,268,315 bytes (7.89 MB)\n",
    "----------------------------------------\n",
    "\"\"\"\n"
   ]
  },
  {
   "cell_type": "markdown",
   "metadata": {},
   "source": [
    "**5c.** Veuillez évaluer le tagger sur les données de test et afficher le taux de correction."
   ]
  },
  {
   "cell_type": "code",
   "execution_count": 97,
   "metadata": {
    "ExecuteTime": {
     "end_time": "2025-03-10T14:55:52.193650Z",
     "start_time": "2025-03-10T14:55:52.189354Z"
    }
   },
   "outputs": [
    {
     "name": "stdout",
     "output_type": "stream",
     "text": [
      "Modèle entraîné avec 2 itérations :\n",
      "Précision du tagger sur les données de test: 0.6182\n",
      "\n",
      "Modèle entraîné avec 5 itérations :\n",
      "Précision du tagger sur les données de test: 0.6216\n",
      "\n",
      "Modèle entraîné avec 10 itérations :\n",
      "Précision du tagger sur les données de test: 0.6218\n",
      "\n",
      "Modèle entraîné avec 20 itérations :\n",
      "Précision du tagger sur les données de test: 0.6216\n",
      "\n",
      "Modèle entraîné avec 100 itérations :\n",
      "Précision du tagger sur les données de test: 0.6174\n",
      "\n"
     ]
    }
   ],
   "source": [
    "# Évaluer l'exactitude des modèles entraînés avec 2, 5, 10 et 20 itérations en calculant manuellement la précision.\n",
    "for iterations in [2, 5, 10, 20, 100]:\n",
    "    print(f\"Modèle entraîné avec {iterations} itérations :\")\n",
    "    # Charger le modèle et vérifier les classes\n",
    "    ptagger = PerceptronTagger(load=False, lang='fr')\n",
    "    full_path = BASE_PATH + f\"/{iterations}_my_perceptron_tagger.pickle\"\n",
    "    # Charger le modèle et définir manuellement les classes si elles sont vides\n",
    "    ptagger.model.load(full_path)\n",
    "    if not ptagger.model.classes:\n",
    "        # Construire l'ensemble des étiquettes à partir du jeu de données d'entraînement\n",
    "        ptagger.model.classes = PTAGGER_CLASSES\n",
    "    \n",
    "    \n",
    "    accuracy = ptagger.accuracy(test_sents)\n",
    "    print(f\"Précision du tagger sur les données de test: {accuracy:.4f}\\n\")"
   ]
  },
  {
   "cell_type": "markdown",
   "metadata": {},
   "source": [
    "## 6. Conclusion\n",
    "\n",
    "Veuillez remplir le tableau suivant avec les scores obtenus et discuter brièvement comment se comparent les trois POS taggers sur ces données de test.\n",
    "\n",
    "| spaCy (partie 3) | spaCy (partie 4) | NLTK (partie 5) | \n",
    "|------------------|------------------|-----------------|\n",
    "| tagger fourni    | tagger entraîné  | tagger entraîné |\n",
    "| 0.8810           | 0.9340           | 0.6202          |\n"
   ]
  },
  {
   "cell_type": "markdown",
   "metadata": {},
   "source": [
    "**Fin du Labo.** Veuillez nettoyer ce notebook en gardant seulement les résultats désirés, l'enregistrer, et le soumettre comme devoir sur Cyberlearn."
   ]
  }
 ],
 "metadata": {
  "kernelspec": {
   "display_name": "CoursTAL",
   "language": "python",
   "name": "python3"
  },
  "language_info": {
   "codemirror_mode": {
    "name": "ipython",
    "version": 3
   },
   "file_extension": ".py",
   "mimetype": "text/x-python",
   "name": "python",
   "nbconvert_exporter": "python",
   "pygments_lexer": "ipython3",
   "version": "3.13.2"
  }
 },
 "nbformat": 4,
 "nbformat_minor": 4
}
